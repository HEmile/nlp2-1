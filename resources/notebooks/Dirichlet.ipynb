{
 "cells": [
  {
   "cell_type": "code",
   "execution_count": 1,
   "metadata": {},
   "outputs": [
    {
     "name": "stderr",
     "output_type": "stream",
     "text": [
      "/Users/waziz/workspace/envs/jupyter/lib/python3.4/site-packages/matplotlib/font_manager.py:280: UserWarning: Matplotlib is building the font cache using fc-list. This may take a moment.\n",
      "  'Matplotlib is building the font cache using fc-list. '\n"
     ]
    }
   ],
   "source": [
    "import numpy as np\n",
    "import matplotlib.pyplot as plt\n",
    "%matplotlib inline"
   ]
  },
  {
   "cell_type": "markdown",
   "metadata": {},
   "source": [
    "# Dirichlet prior\n",
    "\n",
    "The support of the [Dirichlet distribution](https://en.wikipedia.org/wiki/Dirichlet_distribution) is the set of $K$-dimensional vectors $\\theta$ whose entries are real numbers in the interval $(0,1)$, furthermore, $||\\theta||_1 = 1$ (the sum of the coordinates is 1). These vectors can be viewed as the probabilities of a $K$-way categorical event.\n",
    "\n",
    "The density is parameterised by $K$ strictly positive real values called *concentration parameters*.\n",
    "\n",
    "You can also check [this notebook](http://blog.bogatron.net/blog/2014/02/02/visualizing-dirichlet-distributions/) on how to visualise the density."
   ]
  },
  {
   "cell_type": "markdown",
   "metadata": {},
   "source": [
    "We typically use a *symmetric* Dirichlet, that is, we set all $K$ concentration parameters to the same value.\n",
    "In this notebook, we will be sampling from a Dirichlet and plotting the categorical distributions parameterised by those samples."
   ]
  },
  {
   "cell_type": "code",
   "execution_count": 64,
   "metadata": {
    "collapsed": true
   },
   "outputs": [],
   "source": [
    "def plot_dirichlet_samples(alpha=0.01, f_types=10, nb_samples=5):\n",
    "    f_support = np.arange(1, f_types + 1)\n",
    "    alphas = np.full(f_types, alpha)\n",
    "    cats = np.random.dirichlet(alphas, size=nb_samples)\n",
    "    for i, cat in enumerate(cats):\n",
    "        plt.bar(f_support + (0.1 * i), cat, width=0.1, tick_label=f_support)"
   ]
  },
  {
   "cell_type": "markdown",
   "metadata": {},
   "source": [
    "Note that as we reduce $\\alpha$, the sampled vectors look sparser (each color corresponds to a sample). If we use such a Dirichlet as a prior on the parameters of Categorical observations, we a priori expect these categoricals to distribute mass over very few outcomes."
   ]
  },
  {
   "cell_type": "code",
   "execution_count": 63,
   "metadata": {},
   "outputs": [
    {
     "data": {
      "image/png": "[encoded data removed]",
      "text/plain": [
       "<matplotlib.figure.Figure at 0x108673dd8>"
      ]
     },
     "metadata": {},
     "output_type": "display_data"
    }
   ],
   "source": [
    "plot_dirichlet_samples(alpha=1, nb_samples=5)"
   ]
  },
  {
   "cell_type": "code",
   "execution_count": 58,
   "metadata": {},
   "outputs": [
    {
     "data": {
      "image/png": "[encoded data removed]",
      "text/plain": [
       "<matplotlib.figure.Figure at 0x108329860>"
      ]
     },
     "metadata": {},
     "output_type": "display_data"
    }
   ],
   "source": [
    "plot_dirichlet_samples(alpha=0.1, nb_samples=5)"
   ]
  },
  {
   "cell_type": "code",
   "execution_count": 59,
   "metadata": {},
   "outputs": [
    {
     "data": {
      "image/png": "[encoded data removed]",
      "text/plain": [
       "<matplotlib.figure.Figure at 0x10760e358>"
      ]
     },
     "metadata": {},
     "output_type": "display_data"
    }
   ],
   "source": [
    "plot_dirichlet_samples(alpha=0.01, nb_samples=5)"
   ]
  },
  {
   "cell_type": "code",
   "execution_count": 60,
   "metadata": {},
   "outputs": [
    {
     "data": {
      "image/png": "[encoded data removed]",
      "text/plain": [
       "<matplotlib.figure.Figure at 0x108dc4cf8>"
      ]
     },
     "metadata": {},
     "output_type": "display_data"
    }
   ],
   "source": [
    "plot_dirichlet_samples(alpha=0.001, nb_samples=5)"
   ]
  },
  {
   "cell_type": "code",
   "execution_count": null,
   "metadata": {
    "collapsed": true
   },
   "outputs": [],
   "source": []
  }
 ],
 "metadata": {
  "kernelspec": {
   "display_name": "Python 3",
   "language": "python",
   "name": "python3"
  },
  "language_info": {
   "codemirror_mode": {
    "name": "ipython",
    "version": 3
   },
   "file_extension": ".py",
   "mimetype": "text/x-python",
   "name": "python",
   "nbconvert_exporter": "python",
   "pygments_lexer": "ipython3",
   "version": "3.4.3"
  }
 },
 "nbformat": 4,
 "nbformat_minor": 2
}
